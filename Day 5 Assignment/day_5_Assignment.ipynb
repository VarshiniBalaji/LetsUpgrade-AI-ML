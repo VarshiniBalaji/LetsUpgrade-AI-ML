{
  "nbformat": 4,
  "nbformat_minor": 0,
  "metadata": {
    "colab": {
      "name": "day_5_Assignment.ipynb",
      "provenance": []
    },
    "kernelspec": {
      "name": "python3",
      "display_name": "Python 3"
    }
  },
  "cells": [
    {
      "cell_type": "markdown",
      "metadata": {
        "id": "bsE-_Xub37a3",
        "colab_type": "text"
      },
      "source": [
        "Question 1 :\n",
        "Write a Python program to find the first 20 non-even prime natural numbers"
      ]
    },
    {
      "cell_type": "code",
      "metadata": {
        "id": "MW8cRWHUNJ4F",
        "colab_type": "code",
        "colab": {
          "base_uri": "https://localhost:8080/",
          "height": 34
        },
        "outputId": "20df0201-fbb0-4ef4-97d5-0d40a98ae9b4"
      },
      "source": [
        "n=1\n",
        "s=2\n",
        "prime=[]\n",
        "while len(prime)<=19:\n",
        "  n=n+1\n",
        "  s=s+1\n",
        "  flag=0\n",
        "  for i in range(n,s):\n",
        "    for j in range(2,i):\n",
        "      if(i%j==0):\n",
        "        flag=1\n",
        "        break\n",
        "  if(flag==0 and i%2!=0):\n",
        "    prime.append(i)\n",
        "print(prime)\n"
      ],
      "execution_count": 40,
      "outputs": [
        {
          "output_type": "stream",
          "text": [
            "[3, 5, 7, 11, 13, 17, 19, 23, 29, 31, 37, 41, 43, 47, 53, 59, 61, 67, 71, 73]\n"
          ],
          "name": "stdout"
        }
      ]
    },
    {
      "cell_type": "code",
      "metadata": {
        "id": "y9X20k8cS3nH",
        "colab_type": "code",
        "colab": {}
      },
      "source": [
        ""
      ],
      "execution_count": null,
      "outputs": []
    }
  ]
}
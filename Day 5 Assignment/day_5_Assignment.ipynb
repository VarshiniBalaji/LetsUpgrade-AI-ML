{
  "nbformat": 4,
  "nbformat_minor": 0,
  "metadata": {
    "colab": {
      "name": "day_5_Assignment.ipynb",
      "provenance": [],
      "collapsed_sections": []
    },
    "kernelspec": {
      "name": "python3",
      "display_name": "Python 3"
    }
  },
  "cells": [
    {
      "cell_type": "markdown",
      "metadata": {
        "id": "bsE-_Xub37a3",
        "colab_type": "text"
      },
      "source": [
        "Question 1 :\n",
        "Write a Python program to find the first 20 non-even prime natural numbers"
      ]
    },
    {
      "cell_type": "code",
      "metadata": {
        "id": "MW8cRWHUNJ4F",
        "colab_type": "code",
        "colab": {
          "base_uri": "https://localhost:8080/",
          "height": 34
        },
        "outputId": "20df0201-fbb0-4ef4-97d5-0d40a98ae9b4"
      },
      "source": [
        "n=1\n",
        "s=2\n",
        "prime=[]\n",
        "while len(prime)<=19:\n",
        "  n=n+1\n",
        "  s=s+1\n",
        "  flag=0\n",
        "  for i in range(n,s):\n",
        "    for j in range(2,i):\n",
        "      if(i%j==0):\n",
        "        flag=1\n",
        "        break\n",
        "  if(flag==0 and i%2!=0):\n",
        "    prime.append(i)\n",
        "print(prime)\n"
      ],
      "execution_count": 40,
      "outputs": [
        {
          "output_type": "stream",
          "text": [
            "[3, 5, 7, 11, 13, 17, 19, 23, 29, 31, 37, 41, 43, 47, 53, 59, 61, 67, 71, 73]\n"
          ],
          "name": "stdout"
        }
      ]
    },
    {
      "cell_type": "markdown",
      "metadata": {
        "id": "wpTrEqWGXwua",
        "colab_type": "text"
      },
      "source": [
        "Question 2 :\n",
        "Write a Python program to implement 15 functions of string.\n"
      ]
    },
    {
      "cell_type": "code",
      "metadata": {
        "id": "y9X20k8cS3nH",
        "colab_type": "code",
        "colab": {
          "base_uri": "https://localhost:8080/",
          "height": 289
        },
        "outputId": "88865825-71f8-4a4e-852d-b158fe413a39"
      },
      "source": [
        "str1=\"hello\"\n",
        "str2=\"WORLD\"\n",
        "str4=\"if\"\n",
        "str3=\"I like {name:}\"\n",
        "print(str1.capitalize())\n",
        "print(str2.lower())\n",
        "print(str1.upper())\n",
        "print(str1.center(10, \"a\"))\n",
        "print(str1.count(\"l\"))\n",
        "print(str1.encode())\n",
        "print(str1.endswith(\"o\"))\n",
        "print(str1.find(\"x\"))\n",
        "print(str1.find(\"l\"))\n",
        "print(str3.format(name=\"Apple\"))\n",
        "print(str1.index(\"e\"))\n",
        "print(str2.isalnum())\n",
        "print(str2.isprintable())\n",
        "print(str2.isdecimal())\n",
        "print(str4.isnumeric())\n",
        "print(str4.isidentifier())"
      ],
      "execution_count": 99,
      "outputs": [
        {
          "output_type": "stream",
          "text": [
            "Hello\n",
            "world\n",
            "HELLO\n",
            "aahelloaaa\n",
            "2\n",
            "b'hello'\n",
            "True\n",
            "-1\n",
            "2\n",
            "I like Apple\n",
            "1\n",
            "True\n",
            "True\n",
            "False\n",
            "False\n",
            "True\n"
          ],
          "name": "stdout"
        }
      ]
    },
    {
      "cell_type": "markdown",
      "metadata": {
        "id": "EiNyDhbIh5N_",
        "colab_type": "text"
      },
      "source": [
        "Question 3:\n",
        "Write a Python program to check if the given string is a Palindrome or Anagram or None of them.\n",
        "Display the message accordingly to the user."
      ]
    },
    {
      "cell_type": "code",
      "metadata": {
        "id": "rtBLGNPSZzUI",
        "colab_type": "code",
        "colab": {
          "base_uri": "https://localhost:8080/",
          "height": 51
        },
        "outputId": "f4d02d88-ce98-4993-dd79-f6ff33e3fecb"
      },
      "source": [
        "def palindrome(s1):\n",
        "  if(s1==s1[::-1]):\n",
        "    return \"p1\"\n",
        "  else:\n",
        "    return \"p0\"\n",
        "\n",
        "def anagram(s2,s3):\n",
        "  if(sorted(s2)==sorted(s3)):\n",
        "    return \"a1\"\n",
        "  else:\n",
        "    return \"a0\"\n",
        "\n",
        "s1=\"dad\"\n",
        "s2=\"listen\"\n",
        "s3=\"silent\"\n",
        "a=palindrome(s1=s1)\n",
        "\n",
        "b=anagram(s2=s2,s3=s3)\n",
        "\n",
        "if(a==\"p1\"):\n",
        "  print(\"The given String is Palindrome\")\n",
        "elif(a==\"p0\"):\n",
        "  print(\"The given String is not a Palindrome\")\n",
        "if(b==\"a1\"):\n",
        "  print(\"The given Strings are Anagram\")\n",
        "elif(b==\"a0\"):\n",
        "  print(\"The given Strings are not Anagram\")\n",
        "if a==\"p0\" and b==\"a0\":\n",
        "  print(\"None of them\")\n",
        "\n",
        "\n",
        "\n"
      ],
      "execution_count": 97,
      "outputs": [
        {
          "output_type": "stream",
          "text": [
            "The given String is Palindrome\n",
            "The given Strings are Anagram\n"
          ],
          "name": "stdout"
        }
      ]
    },
    {
      "cell_type": "markdown",
      "metadata": {
        "id": "KO2uv35Jq7L0",
        "colab_type": "text"
      },
      "source": [
        "Question 4:\n",
        "Write a Python's user defined function that removes all the additional characters from the string\n",
        "and converts it finally to lower case using built-in lower(). eg: If the string is \"Dr. Darshan Ingle\n",
        "@AI-ML Trainer\", then the output be \"drdarshaningleaimltrainer\".\n"
      ]
    },
    {
      "cell_type": "code",
      "metadata": {
        "id": "ghglnysRlTpH",
        "colab_type": "code",
        "colab": {
          "base_uri": "https://localhost:8080/",
          "height": 34
        },
        "outputId": "c93806c7-e8e0-4de3-fc65-e6578ef2629f"
      },
      "source": [
        "def display(s1):\n",
        "  s2=\"\"\n",
        "  for i in s1:\n",
        "    if i.isalnum():\n",
        "      s2 += i \n",
        "  return s2\n",
        "\n",
        "a=display(s1=\"Dr. Darshan Ingle @AI-ML Trainer\")\n",
        "print(a.lower())"
      ],
      "execution_count": 1,
      "outputs": [
        {
          "output_type": "stream",
          "text": [
            "drdarshaningleaimltrainer\n"
          ],
          "name": "stdout"
        }
      ]
    },
    {
      "cell_type": "code",
      "metadata": {
        "id": "r6Z0Bp1-ldl4",
        "colab_type": "code",
        "colab": {}
      },
      "source": [
        ""
      ],
      "execution_count": null,
      "outputs": []
    }
  ]
}
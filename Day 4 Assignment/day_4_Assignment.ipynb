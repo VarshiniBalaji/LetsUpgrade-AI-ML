{
  "nbformat": 4,
  "nbformat_minor": 0,
  "metadata": {
    "colab": {
      "name": "day_4_Assignment.ipynb",
      "provenance": []
    },
    "kernelspec": {
      "name": "python3",
      "display_name": "Python 3"
    }
  },
  "cells": [
    {
      "cell_type": "markdown",
      "metadata": {
        "id": "FC2yBnkKVE9g",
        "colab_type": "text"
      },
      "source": [
        "Question 1 :\n",
        "Research on whether addition, subtraction, multiplication, division, floor division and modulo\n",
        "operations be performed on complex numbers. Based on your study, implement a Python\n",
        "program to demonstrate these operations."
      ]
    },
    {
      "cell_type": "code",
      "metadata": {
        "id": "W7BdK8RsVMqw",
        "colab_type": "code",
        "colab": {
          "base_uri": "https://localhost:8080/",
          "height": 85
        },
        "outputId": "c3df6a07-fc7b-4ba3-8d5a-a7a2d720076c"
      },
      "source": [
        "a=30+20j\n",
        "b=10+2j\n",
        "print(a-b)\n",
        "print(a+b)\n",
        "print(a/b)\n",
        "print(\"Cannot perform floor division (a//b) and modulus (a%b) over complex numbers\")"
      ],
      "execution_count": 6,
      "outputs": [
        {
          "output_type": "stream",
          "text": [
            "(20+18j)\n",
            "(40+22j)\n",
            "(3.269230769230769+1.346153846153846j)\n",
            "Cannot perform floor division (a//b) and modulus (a%b) over complex numbers\n"
          ],
          "name": "stdout"
        }
      ]
    },
    {
      "cell_type": "markdown",
      "metadata": {
        "id": "OVvuKjwHbXYc",
        "colab_type": "text"
      },
      "source": [
        "Question 2 :\n",
        "Research on range() functions and its parameters. Create a markdown cell and write in your own\n",
        "words (no copy-paste from google please) what you understand about it. Implement a small\n",
        "program of your choice on the same.\n"
      ]
    },
    {
      "cell_type": "markdown",
      "metadata": {
        "id": "OoTZhBRp8YKV",
        "colab_type": "text"
      },
      "source": [
        "range() is a pre-defined function, which provides the sequence of numbers. It accepts an argument where you can mention an integer, so the sequence of number stops with the mentioned parameter and the sequence starts with 0."
      ]
    },
    {
      "cell_type": "code",
      "metadata": {
        "id": "1jTOdtqKXwo9",
        "colab_type": "code",
        "colab": {
          "base_uri": "https://localhost:8080/",
          "height": 187
        },
        "outputId": "eb7791d5-d454-44ee-86a8-b33b993a6eb1"
      },
      "source": [
        "for i in range(10):\n",
        "  print(i)"
      ],
      "execution_count": 7,
      "outputs": [
        {
          "output_type": "stream",
          "text": [
            "0\n",
            "1\n",
            "2\n",
            "3\n",
            "4\n",
            "5\n",
            "6\n",
            "7\n",
            "8\n",
            "9\n"
          ],
          "name": "stdout"
        }
      ]
    },
    {
      "cell_type": "markdown",
      "metadata": {
        "id": "DPLOqSrRIqdM",
        "colab_type": "text"
      },
      "source": [
        "Question 3:\n",
        " Consider two numbers. Perform their subtraction and if the result of subtraction is greater than\n",
        "25, print their multiplication result else print their division result."
      ]
    },
    {
      "cell_type": "code",
      "metadata": {
        "id": "2XskVMtl8WZN",
        "colab_type": "code",
        "colab": {
          "base_uri": "https://localhost:8080/",
          "height": 34
        },
        "outputId": "486de3c8-7d4f-410c-d152-7056e98f6fb4"
      },
      "source": [
        "a=200\n",
        "b=10\n",
        "c=a-b\n",
        "if (c>25):\n",
        "  print(a*b)\n",
        "else:\n",
        "  print(a/b)\n"
      ],
      "execution_count": 13,
      "outputs": [
        {
          "output_type": "stream",
          "text": [
            "2000\n"
          ],
          "name": "stdout"
        }
      ]
    },
    {
      "cell_type": "markdown",
      "metadata": {
        "id": "3OxPQJEbIxsz",
        "colab_type": "text"
      },
      "source": [
        "Question 4:\n",
        "Consider a list of 10 elements of integer values. If the number in the list is divisible by 2, print the\n",
        "result as \"square of that number minus 2\"."
      ]
    },
    {
      "cell_type": "code",
      "metadata": {
        "id": "VLWz4pATI04y",
        "colab_type": "code",
        "colab": {
          "base_uri": "https://localhost:8080/",
          "height": 102
        },
        "outputId": "ec63ce63-5319-4635-a21e-8b3705023de1"
      },
      "source": [
        "a=[1,2,3,4,5,6,7,8,9,10]\n",
        "for i in a:\n",
        "  if(i%2==0):\n",
        "    print(\"square of that number minus 2\")\n"
      ],
      "execution_count": 15,
      "outputs": [
        {
          "output_type": "stream",
          "text": [
            "square of that number minus 2\n",
            "square of that number minus 2\n",
            "square of that number minus 2\n",
            "square of that number minus 2\n",
            "square of that number minus 2\n"
          ],
          "name": "stdout"
        }
      ]
    },
    {
      "cell_type": "markdown",
      "metadata": {
        "id": "iSh2gIsbLSwG",
        "colab_type": "text"
      },
      "source": [
        "Question 5:\n",
        "Consider a list of 10 elements. Print all the elements in the list which are greater than 7 when that\n",
        "number is divided 2."
      ]
    },
    {
      "cell_type": "code",
      "metadata": {
        "id": "OXU5HjRsLbcu",
        "colab_type": "code",
        "colab": {
          "base_uri": "https://localhost:8080/",
          "height": 68
        },
        "outputId": "e706b576-88bb-4fef-ec50-c2d886fb8c7f"
      },
      "source": [
        "a=[2,4,6,8,10,12,14,16,18,19]\n",
        "for i in a:\n",
        "  if(i/2>7):\n",
        "   print(i)\n"
      ],
      "execution_count": 19,
      "outputs": [
        {
          "output_type": "stream",
          "text": [
            "16\n",
            "18\n",
            "19\n"
          ],
          "name": "stdout"
        }
      ]
    }
  ]
}
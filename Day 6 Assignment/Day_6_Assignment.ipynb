{
  "nbformat": 4,
  "nbformat_minor": 0,
  "metadata": {
    "colab": {
      "name": "Day_6_Assignment.ipynb",
      "provenance": []
    },
    "kernelspec": {
      "name": "python3",
      "display_name": "Python 3"
    }
  },
  "cells": [
    {
      "cell_type": "markdown",
      "metadata": {
        "id": "uMUB9aEBimYM",
        "colab_type": "text"
      },
      "source": [
        "Question 1:\n",
        "Assuming that we have some email addresses in the \"username@companyname.com\" format, please write program\n",
        "to print the company name of a given email address. Both user names and company names are composed of letters\n",
        "only.\n"
      ]
    },
    {
      "cell_type": "code",
      "metadata": {
        "id": "zeMRVI81iquo",
        "colab_type": "code",
        "colab": {
          "base_uri": "https://localhost:8080/",
          "height": 35
        },
        "outputId": "0951fd40-6cc6-4a07-acba-4fe2167ed5f7"
      },
      "source": [
        "a='john@google.com'\n",
        "a[a.index('@')+1:a.index('.com')]"
      ],
      "execution_count": 33,
      "outputs": [
        {
          "output_type": "execute_result",
          "data": {
            "application/vnd.google.colaboratory.intrinsic+json": {
              "type": "string"
            },
            "text/plain": [
              "'google'"
            ]
          },
          "metadata": {
            "tags": []
          },
          "execution_count": 33
        }
      ]
    },
    {
      "cell_type": "markdown",
      "metadata": {
        "id": "Tsuhx7NkishT",
        "colab_type": "text"
      },
      "source": [
        "Question 2:\n",
        "Write a program that accepts a comma-separated sequence of words as input and prints the words in a comma\n",
        "separated sequence after sorting them alphabetically."
      ]
    },
    {
      "cell_type": "code",
      "metadata": {
        "id": "WHM-oJ5qbnc_",
        "colab_type": "code",
        "colab": {
          "base_uri": "https://localhost:8080/",
          "height": 34
        },
        "outputId": "f84b1887-cdd8-4488-dd98-50c56ef22e6f"
      },
      "source": [
        "a='without,hello,bag,world'\n",
        "a=a.split(',')\n",
        "a=sorted(a)\n",
        "print(\",\".join(a))"
      ],
      "execution_count": 34,
      "outputs": [
        {
          "output_type": "stream",
          "text": [
            "bag,hello,without,world\n"
          ],
          "name": "stdout"
        }
      ]
    },
    {
      "cell_type": "markdown",
      "metadata": {
        "id": "dJw9uQ2si2s-",
        "colab_type": "text"
      },
      "source": [
        "Question 3:\n",
        "Create your own Jupyter Notebook for Sets.\n",
        "Reference link: https://www.w3schools.com/python/python_sets.asp"
      ]
    },
    {
      "cell_type": "code",
      "metadata": {
        "id": "xPwP3POEbpn6",
        "colab_type": "code",
        "colab": {
          "base_uri": "https://localhost:8080/",
          "height": 323
        },
        "outputId": "a7560f0b-9a3e-4647-b473-1a5189e558f3"
      },
      "source": [
        "thisset = {\"apple\", \"banana\", \"cherry\"}\n",
        "print(thisset)\n",
        "thisset = {\"apple\", \"banana\", \"cherry\"}\n",
        "for x in thisset:\n",
        "  print(x)\n",
        "thisset = {\"apple\", \"banana\", \"cherry\"}\n",
        "print(\"banana\" in thisset)\n",
        "thisset = {\"apple\", \"banana\", \"cherry\"}\n",
        "thisset.add(\"orange\")\n",
        "print(thisset)\n",
        "thisset = {\"apple\", \"banana\", \"cherry\"}\n",
        "thisset.update([\"orange\", \"mango\", \"grapes\"])\n",
        "print(thisset)\n",
        "thisset = {\"apple\", \"banana\", \"cherry\"}\n",
        "print(len(thisset))\n",
        "thisset = {\"apple\", \"banana\", \"cherry\"}\n",
        "thisset.remove(\"banana\")\n",
        "print(thisset)\n",
        "thisset = {\"apple\", \"banana\", \"cherry\"}\n",
        "thisset.discard(\"banana\")\n",
        "print(thisset)\n",
        "thisset = {\"apple\", \"banana\", \"cherry\"}\n",
        "x = thisset.pop()\n",
        "print(x)\n",
        "print(thisset)\n",
        "thisset = {\"apple\", \"banana\", \"cherry\"}\n",
        "thisset.clear()\n",
        "print(thisset)\n",
        "thisset = {\"apple\", \"banana\", \"cherry\"}\n",
        "del thisset\n",
        "print(\"thisset is deleted\")\n",
        "set1 = {\"a\", \"b\" , \"c\"}\n",
        "set2 = {1, 2, 3}\n",
        "set3 = set1.union(set2)\n",
        "print(set3)\n",
        "set1 = {\"a\", \"b\" , \"c\"}\n",
        "set2 = {1, 2, 3}\n",
        "set1.update(set2)\n",
        "print(set1)\n",
        "thisset = set((\"apple\", \"banana\", \"cherry\")) # note the double round-brackets\n",
        "print(thisset)\n",
        "x = {\"apple\", \"banana\", \"cherry\"}\n",
        "y = {\"google\", \"microsoft\", \"apple\"}\n",
        "z = x.intersection(y)\n",
        "print(z)"
      ],
      "execution_count": 49,
      "outputs": [
        {
          "output_type": "stream",
          "text": [
            "{'cherry', 'apple', 'banana'}\n",
            "cherry\n",
            "apple\n",
            "banana\n",
            "True\n",
            "{'cherry', 'orange', 'apple', 'banana'}\n",
            "{'apple', 'orange', 'cherry', 'grapes', 'mango', 'banana'}\n",
            "3\n",
            "{'cherry', 'apple'}\n",
            "{'cherry', 'apple'}\n",
            "cherry\n",
            "{'apple', 'banana'}\n",
            "set()\n",
            "thisset is deleted\n",
            "{1, 'a', 2, 3, 'c', 'b'}\n",
            "{1, 'a', 2, 3, 'c', 'b'}\n",
            "{'cherry', 'apple', 'banana'}\n",
            "{'apple'}\n"
          ],
          "name": "stdout"
        }
      ]
    },
    {
      "cell_type": "markdown",
      "metadata": {
        "id": "Db4H3uXVnMko",
        "colab_type": "text"
      },
      "source": [
        "Question 4:\n",
        "Given a list of n-1 numbers ranging from 1 to n, your task is to find the missing number. There are no duplicates.\n"
      ]
    },
    {
      "cell_type": "code",
      "metadata": {
        "id": "AmwfUdv3gFMZ",
        "colab_type": "code",
        "colab": {
          "base_uri": "https://localhost:8080/",
          "height": 34
        },
        "outputId": "90d8f071-c73d-4b77-b34f-557c6e699a54"
      },
      "source": [
        "a=[1,2,3,4,6,7,8]\n",
        "for i in range(a[-1]):\n",
        "  if(i+1 not in a):\n",
        "    print(i+1)"
      ],
      "execution_count": 50,
      "outputs": [
        {
          "output_type": "stream",
          "text": [
            "5\n"
          ],
          "name": "stdout"
        }
      ]
    },
    {
      "cell_type": "markdown",
      "metadata": {
        "id": "SN-ScfTkrZac",
        "colab_type": "text"
      },
      "source": [
        "Question 5:\n",
        "With a given list L, write a program to print this list L after removing all duplicate values with original order reserved.\n"
      ]
    },
    {
      "cell_type": "code",
      "metadata": {
        "id": "yexgSapQrJMu",
        "colab_type": "code",
        "colab": {
          "base_uri": "https://localhost:8080/",
          "height": 34
        },
        "outputId": "decbf027-277b-4843-c1b4-3a860d2b886b"
      },
      "source": [
        "a=[12,24,35,24]\n",
        "sorted(list(set(a)))"
      ],
      "execution_count": 53,
      "outputs": [
        {
          "output_type": "execute_result",
          "data": {
            "text/plain": [
              "[12, 24, 35]"
            ]
          },
          "metadata": {
            "tags": []
          },
          "execution_count": 53
        }
      ]
    },
    {
      "cell_type": "code",
      "metadata": {
        "id": "JPl2NVP0toLG",
        "colab_type": "code",
        "colab": {}
      },
      "source": [
        ""
      ],
      "execution_count": null,
      "outputs": []
    }
  ]
}